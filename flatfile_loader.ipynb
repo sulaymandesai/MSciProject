{
 "cells": [
  {
   "cell_type": "code",
   "execution_count": 2,
   "metadata": {},
   "outputs": [],
   "source": [
    "# Standard Module Imports\n",
    "import os\n",
    "import argparse\n",
    "import re"
   ]
  },
  {
   "cell_type": "code",
   "execution_count": 3,
   "metadata": {},
   "outputs": [],
   "source": [
    "# Importing module to load flatfiles into Python\n",
    "mtrx2flat_dir = '/Users/sulaymandesai/Documents/GitHub/STM_file_management'\n",
    "os.chdir(mtrx2flat_dir)\n",
    "from flatfile_3 import FlatFile"
   ]
  },
  {
   "cell_type": "code",
   "execution_count": 4,
   "metadata": {},
   "outputs": [],
   "source": [
    "# Importing SPM image viewer module\n",
    "import spiepy"
   ]
  },
  {
   "cell_type": "code",
   "execution_count": 5,
   "metadata": {},
   "outputs": [],
   "source": [
    "# Assigning path of flat file to variable\n",
    "file_flat = '/Users/sulaymandesai/Documents/Year_4/MSciProject/Load data/STM/default_2017Jun09-162147_STM-STM_Spectroscopy--11_1.Z_flat'"
   ]
  },
  {
   "cell_type": "code",
   "execution_count": 6,
   "metadata": {},
   "outputs": [],
   "source": [
    "# Applying flatfile function to file\n",
    "load = FlatFile(file_flat)"
   ]
  },
  {
   "cell_type": "code",
   "execution_count": 8,
   "metadata": {},
   "outputs": [
    {
     "data": {
      "text/plain": [
       "[<flatfile_3.DataArray at 0x10e34ec10>,\n",
       " <flatfile_3.DataArray at 0x10e26cf70>,\n",
       " <flatfile_3.DataArray at 0x10d6a65e0>,\n",
       " <flatfile_3.DataArray at 0x10d8b4dc0>]"
      ]
     },
     "execution_count": 8,
     "metadata": {},
     "output_type": "execute_result"
    }
   ],
   "source": [
    "# Extracting data from flat file\n",
    "d = load.getData()\n",
    "d"
   ]
  },
  {
   "cell_type": "code",
   "execution_count": 9,
   "metadata": {},
   "outputs": [
    {
     "data": {
      "text/plain": [
       "array([[-6.14081725e-08, -6.14093451e-08, -6.14120914e-08, ...,\n",
       "        -6.15736584e-08, -6.15741327e-08, -6.15727274e-08],\n",
       "       [-6.13973821e-08, -6.13988643e-08, -6.14024531e-08, ...,\n",
       "        -6.15661863e-08, -6.15645394e-08, -6.15621175e-08],\n",
       "       [-6.13924376e-08, -6.13932697e-08, -6.13953308e-08, ...,\n",
       "        -6.15516976e-08, -6.15500493e-08, -6.15486356e-08],\n",
       "       ...,\n",
       "       [-5.88441792e-08, -5.88426127e-08, -5.88415518e-08, ...,\n",
       "        -5.90039457e-08, -5.90050842e-08, -5.90068147e-08],\n",
       "       [-5.88351160e-08, -5.88355834e-08, -5.88358618e-08, ...,\n",
       "        -5.90041964e-08, -5.90049094e-08, -5.90074168e-08],\n",
       "       [-5.88277612e-08, -5.88279069e-08, -5.88300175e-08, ...,\n",
       "        -5.90015974e-08, -5.90033397e-08, -5.90059388e-08]])"
      ]
     },
     "execution_count": 9,
     "metadata": {},
     "output_type": "execute_result"
    }
   ],
   "source": [
    "# Displaying first image data. Index runs from 0 - 3 as seen above.\n",
    "d[0].data"
   ]
  },
  {
   "cell_type": "code",
   "execution_count": 10,
   "metadata": {},
   "outputs": [
    {
     "data": {
      "text/plain": [
       "{'filename': '/Users/sulaymandesai/Documents/Year_4/MSciProject/Load data/STM/default_2017Jun09-162147_STM-STM_Spectroscopy--11_1.Z_flat',\n",
       " 'comment': 'Sample=Si(001);CreationComment=',\n",
       " 'unit': 'm',\n",
       " 'date': '2017-06-09 17:12:33',\n",
       " 'runcycle': 'Run 11 – cycle 1\\n',\n",
       " 'current': 5e-11,\n",
       " 'vgap': -1.4000000000000001,\n",
       " 'offset': [],\n",
       " 'type': 'topo',\n",
       " 'xres': 350,\n",
       " 'yres': 350,\n",
       " 'xinc': 0.08595988538681922,\n",
       " 'yinc': 0.08595988538681922,\n",
       " 'xreal': 30.085959885386725,\n",
       " 'yreal': 30.085959885386725,\n",
       " 'unitxy': 'nm',\n",
       " 'direction': 'up-fwd'}"
      ]
     },
     "execution_count": 10,
     "metadata": {},
     "output_type": "execute_result"
    }
   ],
   "source": [
    "# Displaying metadata of first image\n",
    "d[0].info"
   ]
  },
  {
   "cell_type": "code",
   "execution_count": 11,
   "metadata": {},
   "outputs": [
    {
     "data": {
      "text/plain": [
       "<matplotlib.image.AxesImage at 0x10e63b700>"
      ]
     },
     "execution_count": 11,
     "metadata": {},
     "output_type": "execute_result"
    },
    {
     "data": {
      "image/png": "[encoded data removed]",
      "text/plain": [
       "<Figure size 432x288 with 1 Axes>"
      ]
     },
     "metadata": {
      "needs_background": "light"
     },
     "output_type": "display_data"
    }
   ],
   "source": [
    "# Displaying STM image using matplotlib and spiepy\n",
    "\n",
    "import matplotlib.pyplot as plt\n",
    "\n",
    "plt.imshow(d[0].data, origin = 'lower', cmap = spiepy.NANOMAP)"
   ]
  }
 ],
 "metadata": {
  "kernelspec": {
   "display_name": "Python 3",
   "language": "python",
   "name": "python3"
  },
  "language_info": {
   "codemirror_mode": {
    "name": "ipython",
    "version": 3
   },
   "file_extension": ".py",
   "mimetype": "text/x-python",
   "name": "python",
   "nbconvert_exporter": "python",
   "pygments_lexer": "ipython3",
   "version": "3.8.3"
  }
 },
 "nbformat": 4,
 "nbformat_minor": 4
}
