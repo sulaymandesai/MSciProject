{
 "cells": [
  {
   "cell_type": "code",
   "execution_count": 1,
   "metadata": {},
   "outputs": [
    {
     "name": "stderr",
     "output_type": "stream",
     "text": [
      "/Users/sulaymandesai/.pyenv/versions/3.8.3/lib/python3.8/site-packages/pyUSID/viz/__init__.py:16: FutureWarning: Please use sidpy.viz.plot_utils instead of pyUSID.viz.plot_utils. pyUSID.plot_utils will be removed in a future release of pyUSID\n",
      "  warn('Please use sidpy.viz.plot_utils instead of pyUSID.viz.plot_utils. '\n"
     ]
    }
   ],
   "source": [
    "# Module Imports\n",
    "import os\n",
    "import argparse\n",
    "import re\n",
    "\n",
    "import numpy as np\n",
    "import matplotlib.pyplot as plt\n",
    "import spiepy\n",
    "import h5py\n",
    "\n",
    "import sidpy\n",
    "import pyUSID as usid\n",
    "import pycroscopy as px"
   ]
  },
  {
   "cell_type": "code",
   "execution_count": 2,
   "metadata": {},
   "outputs": [],
   "source": [
    "# When creating Python class, input source code here\n",
    "mtrx2flat_dir = '/Users/sulaymandesai/Documents/GitHub/STM_file_management'\n",
    "os.chdir(mtrx2flat_dir)\n",
    "from flatfile_3 import FlatFile"
   ]
  },
  {
   "cell_type": "code",
   "execution_count": 4,
   "metadata": {},
   "outputs": [],
   "source": [
    "default_dir = '/Users/sulaymandesai/Documents/Year_4/MSciProject/LoadData'\n",
    "os.chdir(default_dir)"
   ]
  },
  {
   "cell_type": "code",
   "execution_count": 5,
   "metadata": {},
   "outputs": [],
   "source": [
    "class FlatFileTranslator(usid.NumpyTranslator):\n",
    "    \"\"\"\n",
    "    The above definition of the class states that our FlatFileTranslator inherits all the capabilities and\n",
    "    behaviors of the NumpyTranslator class and builds on top of it.\n",
    "    For more information on the Numpy translator: \n",
    "    https://pycroscopy.github.io/pyUSID/auto_examples/beginner/plot_numpy_translator.html\n",
    "    \"\"\"\n",
    "\n",
    "    def translate(self, input_folder_path, h5_folder_path):\n",
    "        \"\"\"\n",
    "        This function extracts data and metadata from Omicron Scanning Tunnelling Microscope (STM) Flat Files\n",
    "        and translates this into the Pycroscopy compatible pyUSID format. \n",
    "        \n",
    "        Parameters\n",
    "        ----------\n",
    "        input_folder_path : str\n",
    "            Path to the input data folder containing all the files and their information\n",
    "        \n",
    "        h5_folder_path : str\n",
    "            Path to h5 data folder to store the USID formatted files\n",
    "\n",
    "        Returns\n",
    "        -------\n",
    "        h5_path : str\n",
    "            Path to the USID h5 output folder\n",
    "        \"\"\"\n",
    "        \"\"\"\n",
    "        --------------------------------------------------------------------------------------------\n",
    "        1. Extracting data and metadata out of the proprietary file\n",
    "        --------------------------------------------------------------------------------------------\n",
    "        1.2 Read the contents of the file into memory\n",
    "        \"\"\"\n",
    "        prevdir = os.getcwd()\n",
    "        os.chdir(input_folder_path)\n",
    "        \n",
    "        h5_path_array = []\n",
    "        \n",
    "        for file in os.listdir(input_folder_path):\n",
    "            file_flat = file\n",
    "            load_file = FlatFile(file_flat)\n",
    "            d = load_file.getData()\n",
    "            \n",
    "            \"\"\"\n",
    "            1.3 Extract all experiment and instrument related parameters\n",
    "            \"\"\"\n",
    "            for i in enumerate(d):\n",
    "                \n",
    "                raw_data = d[i[0]].data\n",
    "                metadata = d[i[0]].info\n",
    "                \n",
    "                \"\"\"\n",
    "                1.4 Prepare the output file path\n",
    "                \"\"\"\n",
    "                folder_path, file_name = os.path.split(file_flat)\n",
    "                file_name = file_name[:-7] + '_' + metadata['direction']\n",
    "                h5_path = os.path.join(h5_folder_path, file_name + '.h5')\n",
    "                \n",
    "                \"\"\"\n",
    "                1.5 Reshape raw_data into USID 2D shape (position x spectral)\n",
    "                \"\"\"\n",
    "                raw_data_2D = np.reshape(raw_data, (raw_data.shape[0] * raw_data.shape[1], 1))\n",
    "                \n",
    "                \"\"\"\n",
    "                1.6 Extract or generate parameters that define the position and spectral dimensions\n",
    "                \"\"\"\n",
    "                xaxis = metadata['xreal']\n",
    "                yaxis = metadata['yreal']\n",
    "                \n",
    "                xaxis = xaxis/2\n",
    "                yaxis = yaxis/2\n",
    "                \n",
    "                num_rows = int(metadata['yres'])\n",
    "                num_cols = int(metadata['xres'])\n",
    "                num_pos = num_rows * num_cols\n",
    "                \n",
    "                y_qty = 'Y'\n",
    "                y_units = 'nm'\n",
    "                y_vec = np.linspace(-yaxis, yaxis, num_rows, endpoint=True)\n",
    "\n",
    "                x_qty = 'X'\n",
    "                x_units = 'nm'\n",
    "                x_vec = np.linspace(-xaxis, xaxis, num_cols, endpoint=True)\n",
    "                \n",
    "                main_data_name = 'STM'\n",
    "                main_qty = 'Z-height'\n",
    "                main_units = 'nm'\n",
    "                \n",
    "                \"\"\"\n",
    "                --------------------------------------------------------------------------------------------\n",
    "                2. Writing to h5USID file using pyUSID\n",
    "                --------------------------------------------------------------------------------------------\n",
    "                2.2 Expressing the Position and Spectroscopic Dimensions using pyUSID.Dimension objects\n",
    "                \"\"\"\n",
    "                pos_dims = [usid.Dimension(x_qty, x_units, x_vec),\n",
    "                            usid.Dimension(y_qty, y_units, y_vec)]\n",
    "                \n",
    "                spec_dims = usid.Dimension(name = 'arb.', units = '', values = int(1))\n",
    "                \n",
    "                \"\"\"\n",
    "                2.3 Call the translate() function of the base NumpyTranslator class   \n",
    "                \"\"\"\n",
    "                _ = super(FlatFileTranslator, self).translate(h5_path, main_data_name,\n",
    "                                                     raw_data_2D, main_qty, main_units,\n",
    "                                                     pos_dims, spec_dims,\n",
    "                                                     parm_dict=metadata)\n",
    "                \n",
    "                h5_path_array.append(h5_path)\n",
    "        \n",
    "        # Changing back to original directory\n",
    "        os.chdir(prevdir)\n",
    "        \n",
    "        return h5_path_array          "
   ]
  },
  {
   "cell_type": "code",
   "execution_count": 6,
   "metadata": {},
   "outputs": [
    {
     "name": "stderr",
     "output_type": "stream",
     "text": [
      "/Users/sulaymandesai/.pyenv/versions/3.8.3/lib/python3.8/site-packages/sidpy/sid/translator.py:42: FutureWarning: Consider using sidpy.Reader instead of sidpy.Translator if possible and contribute your reader to ScopeReaders\n",
      "  warn('Consider using sidpy.Reader instead of sidpy.Translator if '\n"
     ]
    }
   ],
   "source": [
    "# instantiate the class first:\n",
    "my_tran = FlatFileTranslator()"
   ]
  },
  {
   "cell_type": "code",
   "execution_count": 7,
   "metadata": {},
   "outputs": [
    {
     "name": "stdout",
     "output_type": "stream",
     "text": [
      "Help on FlatFileTranslator in module __main__ object:\n",
      "\n",
      "class FlatFileTranslator(pyUSID.io.numpy_translator.NumpyTranslator)\n",
      " |  FlatFileTranslator(*args, **kwargs)\n",
      " |  \n",
      " |  The above definition of the class states that our FlatFileTranslator inherits all the capabilities and\n",
      " |  behaviors of the NumpyTranslator class and builds on top of it.\n",
      " |  For more information on the Numpy translator: \n",
      " |  https://pycroscopy.github.io/pyUSID/auto_examples/beginner/plot_numpy_translator.html\n",
      " |  \n",
      " |  Method resolution order:\n",
      " |      FlatFileTranslator\n",
      " |      pyUSID.io.numpy_translator.NumpyTranslator\n",
      " |      pyUSID.io.numpy_translator.ArrayTranslator\n",
      " |      sidpy.sid.translator.Translator\n",
      " |      builtins.object\n",
      " |  \n",
      " |  Methods defined here:\n",
      " |  \n",
      " |  translate(self, input_folder_path, h5_folder_path)\n",
      " |      This function extracts data and metadata from Omicron Scanning Tunnelling Microscope (STM) Flat Files\n",
      " |      and translates this into the Pycroscopy compatible pyUSID format. \n",
      " |      \n",
      " |      Parameters\n",
      " |      ----------\n",
      " |      input_folder_path : str\n",
      " |          Path to the input data folder containing all the files and their information\n",
      " |      \n",
      " |      h5_folder_path : str\n",
      " |          Path to h5 data folder to store the USID formatted files\n",
      " |      \n",
      " |      Returns\n",
      " |      -------\n",
      " |      h5_path : str\n",
      " |          Path to the USID h5 output folder\n",
      " |  \n",
      " |  ----------------------------------------------------------------------\n",
      " |  Methods inherited from sidpy.sid.translator.Translator:\n",
      " |  \n",
      " |  __init__(self, *args, **kwargs)\n",
      " |      Parameters\n",
      " |      -----------\n",
      " |          \n",
      " |      Returns\n",
      " |      -------\n",
      " |      Translator object\n",
      " |  \n",
      " |  ----------------------------------------------------------------------\n",
      " |  Static methods inherited from sidpy.sid.translator.Translator:\n",
      " |  \n",
      " |  is_valid_file(file_path, *args, **kwargs)\n",
      " |      Checks whether the provided file can be read by this translator.\n",
      " |      \n",
      " |      This basic function compares the file extension against the \"extension\"\n",
      " |      keyword argument. If the extension matches, this function returns True\n",
      " |      \n",
      " |      Parameters\n",
      " |      ----------\n",
      " |      file_path : str\n",
      " |          Path to raw data file\n",
      " |      \n",
      " |      Returns\n",
      " |      -------\n",
      " |      file_path : str\n",
      " |          Path to the file that needs to be provided to translate()\n",
      " |          if the provided file was indeed a valid file\n",
      " |          Else, None\n",
      " |  \n",
      " |  ----------------------------------------------------------------------\n",
      " |  Data descriptors inherited from sidpy.sid.translator.Translator:\n",
      " |  \n",
      " |  __dict__\n",
      " |      dictionary for instance variables (if defined)\n",
      " |  \n",
      " |  __weakref__\n",
      " |      list of weak references to the object (if defined)\n",
      " |  \n",
      " |  ----------------------------------------------------------------------\n",
      " |  Data and other attributes inherited from sidpy.sid.translator.Translator:\n",
      " |  \n",
      " |  __metaclass__ = <class 'abc.ABCMeta'>\n",
      " |      Metaclass for defining Abstract Base Classes (ABCs).\n",
      " |      \n",
      " |      Use this metaclass to create an ABC.  An ABC can be subclassed\n",
      " |      directly, and then acts as a mix-in class.  You can also register\n",
      " |      unrelated concrete classes (even built-in classes) and unrelated\n",
      " |      ABCs as 'virtual subclasses' -- these and their descendants will\n",
      " |      be considered subclasses of the registering ABC by the built-in\n",
      " |      issubclass() function, but the registering ABC won't show up in\n",
      " |      their MRO (Method Resolution Order) nor will method\n",
      " |      implementations defined by the registering ABC be callable (not\n",
      " |      even via super()).\n",
      "\n"
     ]
    }
   ],
   "source": [
    "help(my_tran)"
   ]
  },
  {
   "cell_type": "code",
   "execution_count": 8,
   "metadata": {},
   "outputs": [],
   "source": [
    "input_folder_path = '/Users/sulaymandesai/Documents/Year_4/MSciProject/LoadData/STM'\n",
    "h5_folder_path = '/Users/sulaymandesai/Documents/Year_4/MSciProject/LoadData/h5'"
   ]
  },
  {
   "cell_type": "code",
   "execution_count": 9,
   "metadata": {},
   "outputs": [
    {
     "name": "stderr",
     "output_type": "stream",
     "text": [
      "/Users/sulaymandesai/.pyenv/versions/3.8.3/lib/python3.8/site-packages/pyUSID/io/dtype_utils.py:62: FutureWarning: pyUSID.io.dtype_utils.contains_integers has been moved to sidpy.base.num_utils.contains_integers. This copy in pyUSID willbe removed in future release. Please update your import statements\n",
      "  warn('pyUSID.io.dtype_utils.contains_integers has been moved to '\n",
      "/Users/sulaymandesai/.pyenv/versions/3.8.3/lib/python3.8/site-packages/pyUSID/io/dtype_utils.py:309: FutureWarning: pyUSID.io.dtype_utils.validate_single_string_arg has been moved to sidpy.base.string_utils.validate_single_string_arg. This copy in pyUSID willbe removed in future release. Please update your import statements\n",
      "  warn('pyUSID.io.dtype_utils.validate_single_string_arg has been moved to '\n",
      "/Users/sulaymandesai/.pyenv/versions/3.8.3/lib/python3.8/site-packages/pyUSID/io/dtype_utils.py:358: FutureWarning: pyUSID.io.dtype_utils.validate_string_args has been moved to sidpy.base.string_utils.validate_string_args. This copy in pyUSID willbe removed in future release. Please update your import statements\n",
      "  warn('pyUSID.io.dtype_utils.validate_string_args has been moved to '\n",
      "/Users/sulaymandesai/.pyenv/versions/3.8.3/lib/python3.8/site-packages/pyUSID/io/dtype_utils.py:62: FutureWarning: pyUSID.io.dtype_utils.contains_integers has been moved to sidpy.base.num_utils.contains_integers. This copy in pyUSID willbe removed in future release. Please update your import statements\n",
      "  warn('pyUSID.io.dtype_utils.contains_integers has been moved to '\n",
      "/Users/sulaymandesai/.pyenv/versions/3.8.3/lib/python3.8/site-packages/pyUSID/io/hdf_utils/simple.py:1135: UserWarning: In the future write_ind_val_dsets will default to requiring dimensions to be arranged from slowest to fastest varying\n",
      "  warn('In the future write_ind_val_dsets will default to requiring dimensions to be arranged from slowest to fastest varying')\n",
      "/Users/sulaymandesai/.pyenv/versions/3.8.3/lib/python3.8/site-packages/pyUSID/io/hdf_utils/simple.py:1192: UserWarning: pyUSID.io.hdf_utils.simple.write_ind_val_dsets no longer createsregion references for each dimension. Please use pyUSID.io.reg_ref.write_region_references to manually create region references\n",
      "  warn('pyUSID.io.hdf_utils.simple.write_ind_val_dsets no longer creates'\n",
      "/Users/sulaymandesai/.pyenv/versions/3.8.3/lib/python3.8/site-packages/pyUSID/io/dtype_utils.py:38: FutureWarning: pyUSID.io.dtype_utils.lazy_load_array has been moved to sidpy.hdf.hdf_utils.lazy_load_array. This copy in pyUSID willbe removed in future release. Please update your import statements\n",
      "  warn('pyUSID.io.dtype_utils.lazy_load_array has been moved to '\n"
     ]
    }
   ],
   "source": [
    "# Then call the translate function:\n",
    "h5_path_2 = my_tran.translate(input_folder_path, h5_folder_path)"
   ]
  },
  {
   "cell_type": "code",
   "execution_count": 10,
   "metadata": {},
   "outputs": [
    {
     "data": {
      "text/plain": [
       "['/Users/sulaymandesai/Documents/Year_4/MSciProject/LoadData/h5/default_2017Jun09-162147_STM-STM_Spectroscopy--27_1_up-fwd.h5',\n",
       " '/Users/sulaymandesai/Documents/Year_4/MSciProject/LoadData/h5/default_2017Jun09-162147_STM-STM_Spectroscopy--27_1_up-bwd.h5',\n",
       " '/Users/sulaymandesai/Documents/Year_4/MSciProject/LoadData/h5/default_2017Jun09-162147_STM-STM_Spectroscopy--27_1_down-fwd.h5',\n",
       " '/Users/sulaymandesai/Documents/Year_4/MSciProject/LoadData/h5/default_2017Jun09-162147_STM-STM_Spectroscopy--27_1_down-bwd.h5',\n",
       " '/Users/sulaymandesai/Documents/Year_4/MSciProject/LoadData/h5/default_2017Jun09-162147_STM-STM_Spectroscopy--11_1_up-fwd.h5',\n",
       " '/Users/sulaymandesai/Documents/Year_4/MSciProject/LoadData/h5/default_2017Jun09-162147_STM-STM_Spectroscopy--11_1_up-bwd.h5',\n",
       " '/Users/sulaymandesai/Documents/Year_4/MSciProject/LoadData/h5/default_2017Jun09-162147_STM-STM_Spectroscopy--11_1_down-fwd.h5',\n",
       " '/Users/sulaymandesai/Documents/Year_4/MSciProject/LoadData/h5/default_2017Jun09-162147_STM-STM_Spectroscopy--11_1_down-bwd.h5']"
      ]
     },
     "execution_count": 10,
     "metadata": {},
     "output_type": "execute_result"
    }
   ],
   "source": [
    "h5_path_2"
   ]
  }
 ],
 "metadata": {
  "kernelspec": {
   "display_name": "Python 3",
   "language": "python",
   "name": "python3"
  },
  "language_info": {
   "codemirror_mode": {
    "name": "ipython",
    "version": 3
   },
   "file_extension": ".py",
   "mimetype": "text/x-python",
   "name": "python",
   "nbconvert_exporter": "python",
   "pygments_lexer": "ipython3",
   "version": "3.8.3"
  }
 },
 "nbformat": 4,
 "nbformat_minor": 4
}
