{
 "cells": [
  {
   "cell_type": "code",
   "execution_count": 1,
   "metadata": {},
   "outputs": [],
   "source": [
    "# Standard Module Imports\n",
    "import os\n",
    "import argparse\n",
    "import re"
   ]
  },
  {
   "cell_type": "code",
   "execution_count": 2,
   "metadata": {},
   "outputs": [],
   "source": [
    "# Importing module to load flatfiles into Python\n",
    "mtrx2flat_dir = '/Users/sulaymandesai/Documents/GitHub/STM_file_management'\n",
    "os.chdir(mtrx2flat_dir)\n",
    "from flatfile_3 import FlatFile"
   ]
  },
  {
   "cell_type": "code",
   "execution_count": 3,
   "metadata": {},
   "outputs": [],
   "source": [
    "default_dir = '/Users/sulaymandesai/Documents/Year_4/MSciProject/Load data'\n",
    "os.chdir(default_dir)"
   ]
  },
  {
   "cell_type": "code",
   "execution_count": 4,
   "metadata": {},
   "outputs": [],
   "source": [
    "# Importing SPM image viewer module\n",
    "import spiepy"
   ]
  },
  {
   "cell_type": "code",
   "execution_count": 5,
   "metadata": {},
   "outputs": [],
   "source": [
    "# Assigning path of flat file to variable\n",
    "file_flat = '/Users/sulaymandesai/Documents/Year_4/MSciProject/Load data/STM/default_2017Jun09-162147_STM-STM_Spectroscopy--11_1.Z_flat'"
   ]
  },
  {
   "cell_type": "code",
   "execution_count": 6,
   "metadata": {},
   "outputs": [],
   "source": [
    "# Applying flatfile function to file\n",
    "load = FlatFile(file_flat)"
   ]
  },
  {
   "cell_type": "code",
   "execution_count": 7,
   "metadata": {},
   "outputs": [],
   "source": [
    "# Extracting data from flat file\n",
    "d = load.getData()"
   ]
  },
  {
   "cell_type": "code",
   "execution_count": 8,
   "metadata": {},
   "outputs": [
    {
     "data": {
      "text/plain": [
       "array([[-6.14081725e-08, -6.14093451e-08, -6.14120914e-08, ...,\n",
       "        -6.15736584e-08, -6.15741327e-08, -6.15727274e-08],\n",
       "       [-6.13973821e-08, -6.13988643e-08, -6.14024531e-08, ...,\n",
       "        -6.15661863e-08, -6.15645394e-08, -6.15621175e-08],\n",
       "       [-6.13924376e-08, -6.13932697e-08, -6.13953308e-08, ...,\n",
       "        -6.15516976e-08, -6.15500493e-08, -6.15486356e-08],\n",
       "       ...,\n",
       "       [-5.88441792e-08, -5.88426127e-08, -5.88415518e-08, ...,\n",
       "        -5.90039457e-08, -5.90050842e-08, -5.90068147e-08],\n",
       "       [-5.88351160e-08, -5.88355834e-08, -5.88358618e-08, ...,\n",
       "        -5.90041964e-08, -5.90049094e-08, -5.90074168e-08],\n",
       "       [-5.88277612e-08, -5.88279069e-08, -5.88300175e-08, ...,\n",
       "        -5.90015974e-08, -5.90033397e-08, -5.90059388e-08]])"
      ]
     },
     "execution_count": 8,
     "metadata": {},
     "output_type": "execute_result"
    }
   ],
   "source": [
    "# Displaying first image data. Index runs from 0 - 3 as seen above.\n",
    "d[0].data"
   ]
  },
  {
   "cell_type": "code",
   "execution_count": 9,
   "metadata": {},
   "outputs": [
    {
     "data": {
      "text/plain": [
       "{'filename': '/Users/sulaymandesai/Documents/Year_4/MSciProject/Load data/STM/default_2017Jun09-162147_STM-STM_Spectroscopy--11_1.Z_flat',\n",
       " 'comment': 'Sample=Si(001);CreationComment=',\n",
       " 'unit': 'm',\n",
       " 'date': '2017-06-09 17:12:33',\n",
       " 'runcycle': 'Run 11 – cycle 1\\n',\n",
       " 'current': 5e-11,\n",
       " 'vgap': -1.4000000000000001,\n",
       " 'offset': [],\n",
       " 'type': 'topo',\n",
       " 'xres': 350,\n",
       " 'yres': 350,\n",
       " 'xinc': 0.08595988538681922,\n",
       " 'yinc': 0.08595988538681922,\n",
       " 'xreal': 30.085959885386725,\n",
       " 'yreal': 30.085959885386725,\n",
       " 'unitxy': 'nm',\n",
       " 'direction': 'up-fwd'}"
      ]
     },
     "execution_count": 9,
     "metadata": {},
     "output_type": "execute_result"
    }
   ],
   "source": [
    "# Displaying metadata of first image\n",
    "d[0].info"
   ]
  },
  {
   "cell_type": "code",
   "execution_count": 10,
   "metadata": {},
   "outputs": [],
   "source": [
    "import matplotlib.pyplot as plt"
   ]
  },
  {
   "cell_type": "code",
   "execution_count": 11,
   "metadata": {},
   "outputs": [],
   "source": [
    "array = d[0].data"
   ]
  },
  {
   "cell_type": "code",
   "execution_count": 12,
   "metadata": {},
   "outputs": [
    {
     "data": {
      "text/plain": [
       "(350, 350)"
      ]
     },
     "execution_count": 12,
     "metadata": {},
     "output_type": "execute_result"
    }
   ],
   "source": [
    "array.shape"
   ]
  },
  {
   "cell_type": "code",
   "execution_count": 13,
   "metadata": {},
   "outputs": [
    {
     "name": "stderr",
     "output_type": "stream",
     "text": [
      "/Users/sulaymandesai/.pyenv/versions/3.8.3/lib/python3.8/site-packages/pyUSID/viz/__init__.py:16: FutureWarning: Please use sidpy.viz.plot_utils instead of pyUSID.viz.plot_utils. pyUSID.plot_utils will be removed in a future release of pyUSID\n",
      "  warn('Please use sidpy.viz.plot_utils instead of pyUSID.viz.plot_utils. '\n"
     ]
    }
   ],
   "source": [
    "import pycroscopy as px\n",
    "import pyUSID as usid"
   ]
  },
  {
   "cell_type": "code",
   "execution_count": 14,
   "metadata": {},
   "outputs": [],
   "source": [
    "import numpy as np\n",
    "\n",
    "array_reshaped = np.reshape(array, (350*350, 1))"
   ]
  },
  {
   "cell_type": "code",
   "execution_count": 15,
   "metadata": {},
   "outputs": [
    {
     "name": "stdout",
     "output_type": "stream",
     "text": [
      "[[-6.14081725e-08]\n",
      " [-6.14093451e-08]\n",
      " [-6.14120914e-08]\n",
      " ...\n",
      " [-5.90015974e-08]\n",
      " [-5.90033397e-08]\n",
      " [-5.90059388e-08]]\n",
      "(122500, 1)\n"
     ]
    }
   ],
   "source": [
    "print(array_reshaped)\n",
    "print(array_reshaped.shape)"
   ]
  },
  {
   "cell_type": "code",
   "execution_count": 16,
   "metadata": {},
   "outputs": [
    {
     "data": {
      "text/plain": [
       "{'filename': '/Users/sulaymandesai/Documents/Year_4/MSciProject/Load data/STM/default_2017Jun09-162147_STM-STM_Spectroscopy--11_1.Z_flat',\n",
       " 'comment': 'Sample=Si(001);CreationComment=',\n",
       " 'unit': 'm',\n",
       " 'date': '2017-06-09 17:12:33',\n",
       " 'runcycle': 'Run 11 – cycle 1\\n',\n",
       " 'current': 5e-11,\n",
       " 'vgap': -1.4000000000000001,\n",
       " 'offset': [],\n",
       " 'type': 'topo',\n",
       " 'xres': 350,\n",
       " 'yres': 350,\n",
       " 'xinc': 0.08595988538681922,\n",
       " 'yinc': 0.08595988538681922,\n",
       " 'xreal': 30.085959885386725,\n",
       " 'yreal': 30.085959885386725,\n",
       " 'unitxy': 'nm',\n",
       " 'direction': 'up-fwd'}"
      ]
     },
     "execution_count": 16,
     "metadata": {},
     "output_type": "execute_result"
    }
   ],
   "source": [
    "d_metadata = d[0].info\n",
    "d_metadata"
   ]
  },
  {
   "cell_type": "code",
   "execution_count": 17,
   "metadata": {},
   "outputs": [],
   "source": [
    "# extracting values for length of x and y axis\n",
    "xreal = d_metadata['xreal']\n",
    "yreal = d_metadata['yreal']"
   ]
  },
  {
   "cell_type": "code",
   "execution_count": 18,
   "metadata": {},
   "outputs": [],
   "source": [
    "xaxis = xreal/2\n",
    "yaxis = yreal/2"
   ]
  },
  {
   "cell_type": "code",
   "execution_count": 22,
   "metadata": {},
   "outputs": [],
   "source": [
    "# Extracting no. of rows and cols and calculating the position dimension length\n",
    "num_rows = int(d_metadata['yres'])\n",
    "num_cols = int(d_metadata['xres'])\n",
    "num_pos = num_rows * num_cols"
   ]
  },
  {
   "cell_type": "code",
   "execution_count": 23,
   "metadata": {},
   "outputs": [],
   "source": [
    "# Creating axis array of values which raw data is varied over\n",
    "y_qty = 'Y'\n",
    "y_units = 'nm'\n",
    "y_vec = np.linspace(-yaxis, yaxis, num_rows, endpoint=True)\n",
    "\n",
    "x_qty = 'X'\n",
    "x_units = 'nm'\n",
    "x_vec = np.linspace(-xaxis, xaxis, num_cols, endpoint=True)"
   ]
  },
  {
   "cell_type": "code",
   "execution_count": 26,
   "metadata": {},
   "outputs": [],
   "source": [
    "main_data_name = 'STM'\n",
    "main_qty = 'Z-height'\n",
    "main_units = 'nm'"
   ]
  },
  {
   "cell_type": "code",
   "execution_count": 30,
   "metadata": {},
   "outputs": [],
   "source": [
    "# First, let us separate the file name from the path to the folder containing the raw data file\n",
    "folder_path, file_name = os.path.split(file_flat)\n",
    "\n",
    "# Next, we will remove the ``.Z_flat`` extension\n",
    "file_name = file_name[:-7] + '_Script'\n",
    "\n",
    "# The new file name will share the same base name as the original file but will end with a ``.h5`` extension.\n",
    "# This HDF5 or H5 file will live in the same folder as the raw data file\n",
    "h5_path_1 = os.path.join(folder_path, file_name + '.h5')"
   ]
  },
  {
   "cell_type": "code",
   "execution_count": 33,
   "metadata": {},
   "outputs": [],
   "source": [
    "# Expressing spectroscopic dimension\n",
    "spec_dims = usid.Dimension(name = 'arb.', units = '', values = int(1))"
   ]
  },
  {
   "cell_type": "code",
   "execution_count": 34,
   "metadata": {},
   "outputs": [],
   "source": [
    "# Expressing position dimension\n",
    "pos_dims = [usid.Dimension(x_qty, x_units, x_vec),\n",
    "            usid.Dimension(y_qty, y_units, y_vec)]"
   ]
  },
  {
   "cell_type": "code",
   "execution_count": 36,
   "metadata": {},
   "outputs": [
    {
     "name": "stderr",
     "output_type": "stream",
     "text": [
      "/Users/sulaymandesai/.pyenv/versions/3.8.3/lib/python3.8/site-packages/sidpy/sid/translator.py:42: FutureWarning: Consider using sidpy.Reader instead of sidpy.Translator if possible and contribute your reader to ScopeReaders\n",
      "  warn('Consider using sidpy.Reader instead of sidpy.Translator if '\n",
      "/Users/sulaymandesai/.pyenv/versions/3.8.3/lib/python3.8/site-packages/pyUSID/io/dtype_utils.py:62: FutureWarning: pyUSID.io.dtype_utils.contains_integers has been moved to sidpy.base.num_utils.contains_integers. This copy in pyUSID willbe removed in future release. Please update your import statements\n",
      "  warn('pyUSID.io.dtype_utils.contains_integers has been moved to '\n",
      "/Users/sulaymandesai/.pyenv/versions/3.8.3/lib/python3.8/site-packages/pyUSID/io/dtype_utils.py:309: FutureWarning: pyUSID.io.dtype_utils.validate_single_string_arg has been moved to sidpy.base.string_utils.validate_single_string_arg. This copy in pyUSID willbe removed in future release. Please update your import statements\n",
      "  warn('pyUSID.io.dtype_utils.validate_single_string_arg has been moved to '\n",
      "/Users/sulaymandesai/.pyenv/versions/3.8.3/lib/python3.8/site-packages/pyUSID/io/dtype_utils.py:358: FutureWarning: pyUSID.io.dtype_utils.validate_string_args has been moved to sidpy.base.string_utils.validate_string_args. This copy in pyUSID willbe removed in future release. Please update your import statements\n",
      "  warn('pyUSID.io.dtype_utils.validate_string_args has been moved to '\n",
      "/Users/sulaymandesai/.pyenv/versions/3.8.3/lib/python3.8/site-packages/pyUSID/io/dtype_utils.py:62: FutureWarning: pyUSID.io.dtype_utils.contains_integers has been moved to sidpy.base.num_utils.contains_integers. This copy in pyUSID willbe removed in future release. Please update your import statements\n",
      "  warn('pyUSID.io.dtype_utils.contains_integers has been moved to '\n",
      "/Users/sulaymandesai/.pyenv/versions/3.8.3/lib/python3.8/site-packages/pyUSID/io/hdf_utils/simple.py:1135: UserWarning: In the future write_ind_val_dsets will default to requiring dimensions to be arranged from slowest to fastest varying\n",
      "  warn('In the future write_ind_val_dsets will default to requiring dimensions to be arranged from slowest to fastest varying')\n",
      "/Users/sulaymandesai/.pyenv/versions/3.8.3/lib/python3.8/site-packages/pyUSID/io/hdf_utils/simple.py:1192: UserWarning: pyUSID.io.hdf_utils.simple.write_ind_val_dsets no longer createsregion references for each dimension. Please use pyUSID.io.reg_ref.write_region_references to manually create region references\n",
      "  warn('pyUSID.io.hdf_utils.simple.write_ind_val_dsets no longer creates'\n",
      "/Users/sulaymandesai/.pyenv/versions/3.8.3/lib/python3.8/site-packages/pyUSID/io/dtype_utils.py:38: FutureWarning: pyUSID.io.dtype_utils.lazy_load_array has been moved to sidpy.hdf.hdf_utils.lazy_load_array. This copy in pyUSID willbe removed in future release. Please update your import statements\n",
      "  warn('pyUSID.io.dtype_utils.lazy_load_array has been moved to '\n"
     ]
    }
   ],
   "source": [
    "# Applying numpy translator\n",
    "tran = usid.NumpyTranslator()\n",
    "_ = tran.translate(h5_path_1, main_data_name,\n",
    "                   array_reshaped, main_qty, main_units,\n",
    "                   pos_dims, spec_dims,\n",
    "                   parm_dict=d_metadata)"
   ]
  },
  {
   "cell_type": "code",
   "execution_count": 44,
   "metadata": {},
   "outputs": [
    {
     "name": "stdout",
     "output_type": "stream",
     "text": [
      "/\n",
      "├ Measurement_000\n",
      "  ---------------\n",
      "  ├ Channel_000\n",
      "    -----------\n",
      "    ├ Position_Indices\n",
      "    ├ Position_Values\n",
      "    ├ Raw_Data\n",
      "    ├ Spectroscopic_Indices\n",
      "    ├ Spectroscopic_Values\n"
     ]
    }
   ],
   "source": [
    "# Printing HDF5 file tree\n",
    "h5_file = h5py.File(h5_path_1, mode='r')\n",
    "usid.hdf_utils.print_tree(h5_file)"
   ]
  },
  {
   "cell_type": "code",
   "execution_count": 45,
   "metadata": {},
   "outputs": [
    {
     "name": "stdout",
     "output_type": "stream",
     "text": [
      "<HDF5 dataset \"Position_Indices\": shape (122500, 2), type \"<u4\">\n",
      "<HDF5 dataset \"Position_Values\": shape (122500, 2), type \"<f4\">\n",
      "<HDF5 dataset \"Spectroscopic_Indices\": shape (1, 1), type \"<u4\">\n",
      "<HDF5 dataset \"Spectroscopic_Values\": shape (1, 1), type \"<f4\">\n"
     ]
    }
   ],
   "source": [
    "print(h5_file['/Measurement_000/Channel_000/Position_Indices'])\n",
    "print(h5_file['/Measurement_000/Channel_000/Position_Values'])\n",
    "print(h5_file['/Measurement_000/Channel_000/Spectroscopic_Indices'])\n",
    "print(h5_file['/Measurement_000/Channel_000/Spectroscopic_Values'])"
   ]
  },
  {
   "cell_type": "code",
   "execution_count": 46,
   "metadata": {},
   "outputs": [
    {
     "name": "stdout",
     "output_type": "stream",
     "text": [
      "\n",
      "Metadata or attributes in a datagroup\n",
      "comment : Sample=Si(001);CreationComment=\n",
      "current : 5e-11\n",
      "date : 2017-06-09 17:12:33\n",
      "direction : up-fwd\n",
      "filename : /Users/sulaymandesai/Documents/Year_4/MSciProject/Load data/STM/default_2017Jun09-162147_STM-STM_Spectroscopy--11_1.Z_flat\n",
      "machine_id : eduroam-int-dhcp-97-206-35.ucl.ac.uk\n",
      "offset : []\n",
      "platform : macOS-10.15.5-x86_64-i386-64bit\n",
      "pyUSID_version : 0.0.9\n",
      "runcycle : Run 11 – cycle 1\n",
      "\n",
      "sidpy_version : 0.0.3\n",
      "timestamp : 2020_12_01-13_55_55\n",
      "type : topo\n",
      "unit : m\n",
      "unitxy : nm\n",
      "vgap : -1.4000000000000001\n",
      "xinc : 0.08595988538681922\n",
      "xreal : 30.085959885386725\n",
      "xres : 350\n",
      "yinc : 0.08595988538681922\n",
      "yreal : 30.085959885386725\n",
      "yres : 350\n"
     ]
    }
   ],
   "source": [
    "print('\\nMetadata or attributes in a datagroup')\n",
    "for key in h5_file['/Measurement_000'].attrs:\n",
    "    print('{} : {}'.format(key, h5_file['/Measurement_000'].attrs[key]))"
   ]
  },
  {
   "cell_type": "code",
   "execution_count": 47,
   "metadata": {},
   "outputs": [
    {
     "name": "stdout",
     "output_type": "stream",
     "text": [
      "/\n",
      "├ Measurement_000\n",
      "  ---------------\n",
      "  ├ Channel_000\n",
      "    -----------\n",
      "    ├ Raw_Data\n"
     ]
    }
   ],
   "source": [
    "usid.hdf_utils.print_tree(h5_file, main_dsets_only=True)"
   ]
  },
  {
   "cell_type": "code",
   "execution_count": 64,
   "metadata": {},
   "outputs": [
    {
     "name": "stdout",
     "output_type": "stream",
     "text": [
      "<HDF5 dataset \"Raw_Data\": shape (122500, 1), type \"<f8\">\n",
      "located at: \n",
      "\t/Measurement_000/Channel_000/Raw_Data \n",
      "Data contains: \n",
      "\tZ-height (nm) \n",
      "Data dimensions and original shape: \n",
      "Position Dimensions: \n",
      "\tY - size: 350 \n",
      "\tX - size: 350 \n",
      "Spectroscopic Dimensions: \n",
      "\tarb. - size: 1\n",
      "Data Type:\n",
      "\tfloat64\n"
     ]
    },
    {
     "name": "stderr",
     "output_type": "stream",
     "text": [
      "/Users/sulaymandesai/.pyenv/versions/3.8.3/lib/python3.8/site-packages/pyUSID/io/dtype_utils.py:62: FutureWarning: pyUSID.io.dtype_utils.contains_integers has been moved to sidpy.base.num_utils.contains_integers. This copy in pyUSID willbe removed in future release. Please update your import statements\n",
      "  warn('pyUSID.io.dtype_utils.contains_integers has been moved to '\n",
      "/Users/sulaymandesai/.pyenv/versions/3.8.3/lib/python3.8/site-packages/pyUSID/io/dtype_utils.py:38: FutureWarning: pyUSID.io.dtype_utils.lazy_load_array has been moved to sidpy.hdf.hdf_utils.lazy_load_array. This copy in pyUSID willbe removed in future release. Please update your import statements\n",
      "  warn('pyUSID.io.dtype_utils.lazy_load_array has been moved to '\n"
     ]
    },
    {
     "data": {
      "text/plain": [
       "(<Figure size 432x288 with 2 Axes>,\n",
       " <matplotlib.axes._subplots.AxesSubplot at 0x11d905fa0>)"
      ]
     },
     "execution_count": 64,
     "metadata": {},
     "output_type": "execute_result"
    },
    {
     "data": {
      "image/png": "[encoded data removed]",
      "text/plain": [
       "<Figure size 432x288 with 2 Axes>"
      ]
     },
     "metadata": {
      "needs_background": "light"
     },
     "output_type": "display_data"
    }
   ],
   "source": [
    "# Visualising the STM topography\n",
    "h5_topo = usid.USIDataset(h5_file['/Measurement_000/Channel_000/Raw_Data'])\n",
    "print(h5_topo)\n",
    "h5_topo.visualize(cmap = spiepy.NANOMAP)"
   ]
  }
 ],
 "metadata": {
  "kernelspec": {
   "display_name": "Python 3",
   "language": "python",
   "name": "python3"
  },
  "language_info": {
   "codemirror_mode": {
    "name": "ipython",
    "version": 3
   },
   "file_extension": ".py",
   "mimetype": "text/x-python",
   "name": "python",
   "nbconvert_exporter": "python",
   "pygments_lexer": "ipython3",
   "version": "3.8.3"
  }
 },
 "nbformat": 4,
 "nbformat_minor": 4
}
